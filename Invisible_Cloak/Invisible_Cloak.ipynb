{
 "cells": [
  {
   "cell_type": "code",
   "execution_count": 1,
   "metadata": {},
   "outputs": [],
   "source": [
    "import cv2\n",
    "import numpy as np\n",
    "import time\n",
    "video_capture=cv2.VideoCapture(0)\n",
    "\n",
    "fourcc= cv2.VideoWriter_fourcc('m','p','4','v')\n",
    "frame_height=int(video_capture.get(5))\n",
    "frame_width=int(video_capture.get(5))\n",
    "out= cv2.VideoWriter('Invisible_Cloak.mp4',fourcc, 10,(frame_height,frame_width), True)\n"
   ]
  },
  {
   "cell_type": "code",
   "execution_count": 2,
   "metadata": {},
   "outputs": [],
   "source": [
    "time.sleep(3)\n",
    "background=0"
   ]
  },
  {
   "cell_type": "code",
   "execution_count": 3,
   "metadata": {},
   "outputs": [],
   "source": [
    "for x in range(90):\n",
    "    ret,background=video_capture.read()\n",
    "background = np.flip(background,axis=1)"
   ]
  },
  {
   "cell_type": "code",
   "execution_count": null,
   "metadata": {},
   "outputs": [],
   "source": [
    "while(video_capture.isOpened()):\n",
    "    ret,image=video_capture.read()\n",
    "    if not ret:\n",
    "        break\n",
    "    image=np.flip(image,axis=1)\n",
    "    hsv=cv2.cvtColor(image, cv2.COLOR_BGR2HSV)\n",
    "    \n",
    "    #Creating mask and detecting color.\n",
    "    lower_green=np.array([25,52,72])\n",
    "    upper_green=np.array([102,255,255])\n",
    "    mask_all=cv2.inRange(hsv,lower_green,upper_green)\n",
    "    #Different colors will have diffrent ranges use define values for them accordingly!!!\n",
    "    \n",
    "    \n",
    "    mask_all=cv2.morphologyEx(mask_all, cv2.MORPH_OPEN, np.ones((3,3),np.uint8))\n",
    "    mask_all=cv2.morphologyEx(mask_all, cv2.MORPH_DILATE, np.ones((3,3),np.uint8))\n",
    "    \n",
    "    #Hiding the selected color in this case Green.\n",
    "    mask2=cv2.bitwise_not(mask_all)\n",
    "    \n",
    "    streamA=cv2.bitwise_and(image,image,mask=mask2)\n",
    "    streamB=cv2.bitwise_and(background,background,mask=mask_all)\n",
    "    \n",
    "    #Writing the video\n",
    "    output=cv2.addWeighted(streamA,1,streamB,1,0)\n",
    "    out.write(output)\n",
    "    cv2.imshow(\"Invisible_cloak\",output)\n",
    "    \n",
    "    if cv2.waitKey(25)==13:\n",
    "        break\n",
    "        \n",
    "video_capture.release()\n",
    "out.release()\n",
    "cv2.destroyAllWindows()\n",
    "    \n",
    "    "
   ]
  },
  {
   "cell_type": "code",
   "execution_count": null,
   "metadata": {},
   "outputs": [],
   "source": []
  }
 ],
 "metadata": {
  "kernelspec": {
   "display_name": "Python 3.7 (tensorflow)",
   "language": "python",
   "name": "tensorflow"
  },
  "language_info": {
   "codemirror_mode": {
    "name": "ipython",
    "version": 3
   },
   "file_extension": ".py",
   "mimetype": "text/x-python",
   "name": "python",
   "nbconvert_exporter": "python",
   "pygments_lexer": "ipython3",
   "version": "3.7.7"
  }
 },
 "nbformat": 4,
 "nbformat_minor": 4
}
